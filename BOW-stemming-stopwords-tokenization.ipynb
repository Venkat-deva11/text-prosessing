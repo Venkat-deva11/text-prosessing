import pandas as pd
df=pd.read_csv('sampleDataste.txt',sep='\t',names=["labels","messages"])
import re
import nltk
nltk.download('stopwords')
from nltk.corpus import stopwords
from nltk.stem.porter import PorterStemmer
ps=PorterStemmer()
import re
import nltk
nltk.download('stopwords')

from nltk.corpus import stopwords
from nltk.stem.porter import PorterStemmer

ps = PorterStemmer()
corpus = []

for i in range(len(df)):
    # Remove special characters
    review = re.sub('[^a-zA-Z]', ' ', df['messages'][i])
    
    # Convert to lowercase
    review = review.lower()
    
    # Split into words
    review = review.split()
    
    # Remove stopwords and apply stemming
    review = [ps.stem(word) for word in review if word not in stopwords.words('english')]
    
    # Join words back
    review = ' '.join(review)
    
    # Append to corpus
    corpus.append(review)

print(corpus[:5])
from sklearn.feature_extraction.text import CountVectorizer

# Initialize CountVectorizer
cv = CountVectorizer(max_features=100, binary=True)  # Top 100 words, binary bag-of-words

# Fit and transform corpus
X = cv.fit_transform(corpus).toarray()

# Output shape
print("Shape of X:", X.shape)
print("First 5 rows:\n", X[:5])
cv.vocabulary